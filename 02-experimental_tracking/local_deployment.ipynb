{
 "cells": [
  {
   "cell_type": "code",
   "execution_count": 1,
   "id": "dd24f61c",
   "metadata": {},
   "outputs": [],
   "source": [
    "import os\n",
    "import uuid\n",
    "import pickle\n",
    "from typing import Union, Tuple, List, Dict\n",
    "import numpy as np\n",
    "\n",
    "\n",
    "import pandas as pd\n",
    "\n",
    "import mlflow\n",
    "\n",
    "from sklearn.feature_extraction import DictVectorizer\n",
    "from sklearn.ensemble import RandomForestRegressor\n",
    "from sklearn.metrics import mean_squared_error\n",
    "from sklearn.pipeline import make_pipeline"
   ]
  },
  {
   "cell_type": "markdown",
   "id": "139461ab",
   "metadata": {},
   "source": [
    "```bash\n",
    "mlflow server \\\n",
    "  --backend-store-uri sqlite:///mlflow.db \\\n",
    "  --default-artifact-root file:./mlruns/artifacts \\\n",
    "  --host 0.0.0.0 \\\n",
    "  --serve-artifacts\n",
    "```"
   ]
  },
  {
   "cell_type": "markdown",
   "id": "0d381e1e",
   "metadata": {},
   "source": [
    "setting tracking_uri to 127.0.0.1:5000 sets artifact uri to mflow-artifact but no full path\n",
    "sqlite:///mlflow.db sets it to mlruns with full path"
   ]
  },
  {
   "cell_type": "code",
   "execution_count": 2,
   "id": "1ce82a09",
   "metadata": {},
   "outputs": [],
   "source": [
    "TRACKING_SERVER_HOST = \"127.0.0.1\" # fill in with the public IP\n",
    "mlflow.set_tracking_uri(f\"http://{TRACKING_SERVER_HOST}:5000\")"
   ]
  },
  {
   "cell_type": "code",
   "execution_count": 5,
   "id": "1678c159",
   "metadata": {},
   "outputs": [
    {
     "data": {
      "text/plain": [
       "[<Experiment: artifact_location='/home/habeeb/Mlops-proj/02-experimental_tracking/mlruns/2', creation_time=1750195955848, experiment_id='2', last_update_time=1750195955848, lifecycle_stage='active', name='nyc-taxi-exp-weighted-main10', tags={}>,\n",
       " <Experiment: artifact_location='mlflow-artifacts:/1', creation_time=1750188577811, experiment_id='1', last_update_time=1750188577811, lifecycle_stage='active', name='nyc-taxi-exp-weighted-main9', tags={}>,\n",
       " <Experiment: artifact_location='mlflow-artifacts:/0', creation_time=1750188571745, experiment_id='0', last_update_time=1750188571745, lifecycle_stage='active', name='Default', tags={}>]"
      ]
     },
     "execution_count": 5,
     "metadata": {},
     "output_type": "execute_result"
    }
   ],
   "source": [
    "mlflow.search_experiments()"
   ]
  },
  {
   "cell_type": "code",
   "execution_count": 4,
   "id": "d03f1a24",
   "metadata": {},
   "outputs": [],
   "source": [
    "from mlflow.tracking import MlflowClient\n",
    "\n",
    "MLFLOW_TRACKING_URI = f\"http://{TRACKING_SERVER_HOST}:5000\"\n",
    "\n",
    "client = MlflowClient(tracking_uri=MLFLOW_TRACKING_URI)"
   ]
  },
  {
   "cell_type": "code",
   "execution_count": 6,
   "id": "4571de2a",
   "metadata": {},
   "outputs": [
    {
     "name": "stdout",
     "output_type": "stream",
     "text": [
      "[<Run: data=<RunData: metrics={'rmse': 6.547743727595545}, params={'colsample_bytree': '0.9384114002268024',\n",
      " 'learning_rate': '0.6983559553082959',\n",
      " 'max_depth': '25',\n",
      " 'min_child_weight': '0.9420599625801453',\n",
      " 'reg_alpha': '0.24874193603521913',\n",
      " 'reg_lambda': '0.007004825823791956',\n",
      " 'subsample': '0.8689464633146126'}, tags={'mlflow.parentRunId': 'ee510635d77b4672850c00f20462a362',\n",
      " 'mlflow.runName': 'capricious-slug-403',\n",
      " 'mlflow.source.git.commit': '23a313921adf03d4e718b0b7082162f481f0b59d',\n",
      " 'mlflow.source.name': '/home/habeeb/Mlops-proj/02-experimental_tracking/main.py',\n",
      " 'mlflow.source.type': 'LOCAL',\n",
      " 'mlflow.user': 'habeeb'}>, info=<RunInfo: artifact_uri='/home/habeeb/Mlops-proj/02-experimental_tracking/mlruns/2/2e77c7527ee44d94a9544fa39034731f/artifacts', end_time=1750196419640, experiment_id='2', lifecycle_stage='active', run_id='2e77c7527ee44d94a9544fa39034731f', run_name='capricious-slug-403', run_uuid='2e77c7527ee44d94a9544fa39034731f', start_time=1750196418304, status='FINISHED', user_id='habeeb'>, inputs=<RunInputs: dataset_inputs=[]>>, <Run: data=<RunData: metrics={'mae': 4.284408121113809,\n",
      " 'mse': 42.87294792226681,\n",
      " 'r2': 0.7106465101056003,\n",
      " 'rmse': 6.547743727595545}, params={'categorical_transformer': 'onehot',\n",
      " 'numerical_transformer': 'none',\n",
      " 'objective': 'reg:squarederror',\n",
      " 'seed': '42'}, tags={'developer': 'habeeb',\n",
      " 'mlflow.log-model.history': '[{\"run_id\": \"ee510635d77b4672850c00f20462a362\", '\n",
      "                             '\"artifact_path\": \"model\", \"utc_time_created\": '\n",
      "                             '\"2025-06-17 21:40:22.929820\", \"model_uuid\": '\n",
      "                             '\"94bf43eb0b1744a19b14b5a0e8489dc0\", \"flavors\": '\n",
      "                             '{\"python_function\": {\"model_path\": \"model.pkl\", '\n",
      "                             '\"predict_fn\": \"predict\", \"loader_module\": '\n",
      "                             '\"mlflow.sklearn\", \"python_version\": \"3.12.7\", '\n",
      "                             '\"env\": {\"conda\": \"conda.yaml\", \"virtualenv\": '\n",
      "                             '\"python_env.yaml\"}}, \"sklearn\": '\n",
      "                             '{\"pickled_model\": \"model.pkl\", '\n",
      "                             '\"sklearn_version\": \"1.5.1\", '\n",
      "                             '\"serialization_format\": \"cloudpickle\", \"code\": '\n",
      "                             'null}}}]',\n",
      " 'mlflow.runName': 'XGBoost',\n",
      " 'mlflow.source.git.commit': '23a313921adf03d4e718b0b7082162f481f0b59d',\n",
      " 'mlflow.source.name': '/home/habeeb/Mlops-proj/02-experimental_tracking/main.py',\n",
      " 'mlflow.source.type': 'LOCAL',\n",
      " 'mlflow.user': 'habeeb',\n",
      " 'model_type': 'XGBoost',\n",
      " 'train_data': '2021-1-green',\n",
      " 'val_data': '2021-2-green'}>, info=<RunInfo: artifact_uri='/home/habeeb/Mlops-proj/02-experimental_tracking/mlruns/2/ee510635d77b4672850c00f20462a362/artifacts', end_time=1750196425974, experiment_id='2', lifecycle_stage='active', run_id='ee510635d77b4672850c00f20462a362', run_name='XGBoost', run_uuid='ee510635d77b4672850c00f20462a362', start_time=1750196414755, status='FINISHED', user_id='habeeb'>, inputs=<RunInputs: dataset_inputs=[]>>, <Run: data=<RunData: metrics={'rmse': 6.624938501120201}, params={'colsample_bytree': '0.7219822308877714',\n",
      " 'learning_rate': '0.05656998555259835',\n",
      " 'max_depth': '22',\n",
      " 'min_child_weight': '10.72450242359463',\n",
      " 'reg_alpha': '0.02204282402505958',\n",
      " 'reg_lambda': '0.009143231620940492',\n",
      " 'subsample': '0.8316075483364141'}, tags={'mlflow.parentRunId': 'ee510635d77b4672850c00f20462a362',\n",
      " 'mlflow.runName': 'mysterious-hawk-145',\n",
      " 'mlflow.source.git.commit': '23a313921adf03d4e718b0b7082162f481f0b59d',\n",
      " 'mlflow.source.name': '/home/habeeb/Mlops-proj/02-experimental_tracking/main.py',\n",
      " 'mlflow.source.type': 'LOCAL',\n",
      " 'mlflow.user': 'habeeb'}>, info=<RunInfo: artifact_uri='/home/habeeb/Mlops-proj/02-experimental_tracking/mlruns/2/990cf1adb69c418680637abf1203b7a6/artifacts', end_time=1750196417698, experiment_id='2', lifecycle_stage='active', run_id='990cf1adb69c418680637abf1203b7a6', run_name='mysterious-hawk-145', run_uuid='990cf1adb69c418680637abf1203b7a6', start_time=1750196415997, status='FINISHED', user_id='habeeb'>, inputs=<RunInputs: dataset_inputs=[]>>, <Run: data=<RunData: metrics={'mae': 4.417158298566844,\n",
      " 'mse': 43.95406844438753,\n",
      " 'r2': 0.7033499277329751,\n",
      " 'rmse': 6.629786455413743}, params={'categorical_transformer': 'onehot', 'numerical_transformer': 'none'}, tags={'developer': 'habeeb',\n",
      " 'mlflow.log-model.history': '[{\"run_id\": \"b0284551d2384cb7a5418eae32ba944b\", '\n",
      "                             '\"artifact_path\": \"model\", \"utc_time_created\": '\n",
      "                             '\"2025-06-17 21:40:10.978312\", \"model_uuid\": '\n",
      "                             '\"1a125b2f54fb4be392c72bed3fbce965\", \"flavors\": '\n",
      "                             '{\"python_function\": {\"model_path\": \"model.pkl\", '\n",
      "                             '\"predict_fn\": \"predict\", \"loader_module\": '\n",
      "                             '\"mlflow.sklearn\", \"python_version\": \"3.12.7\", '\n",
      "                             '\"env\": {\"conda\": \"conda.yaml\", \"virtualenv\": '\n",
      "                             '\"python_env.yaml\"}}, \"sklearn\": '\n",
      "                             '{\"pickled_model\": \"model.pkl\", '\n",
      "                             '\"sklearn_version\": \"1.5.1\", '\n",
      "                             '\"serialization_format\": \"cloudpickle\", \"code\": '\n",
      "                             'null}}}]',\n",
      " 'mlflow.runName': 'RandomForest',\n",
      " 'mlflow.source.git.commit': '23a313921adf03d4e718b0b7082162f481f0b59d',\n",
      " 'mlflow.source.name': '/home/habeeb/Mlops-proj/02-experimental_tracking/main.py',\n",
      " 'mlflow.source.type': 'LOCAL',\n",
      " 'mlflow.user': 'habeeb',\n",
      " 'model_type': 'RandomForest',\n",
      " 'train_data': '2021-1-green',\n",
      " 'val_data': '2021-2-green'}>, info=<RunInfo: artifact_uri='/home/habeeb/Mlops-proj/02-experimental_tracking/mlruns/2/b0284551d2384cb7a5418eae32ba944b/artifacts', end_time=1750196414741, experiment_id='2', lifecycle_stage='active', run_id='b0284551d2384cb7a5418eae32ba944b', run_name='RandomForest', run_uuid='b0284551d2384cb7a5418eae32ba944b', start_time=1750196000899, status='FINISHED', user_id='habeeb'>, inputs=<RunInputs: dataset_inputs=[]>>, <Run: data=<RunData: metrics={'rmse': 6.63006037948673}, params={'max_depth': '19',\n",
      " 'min_samples_leaf': '2',\n",
      " 'min_samples_split': '11',\n",
      " 'n_estimators': '190'}, tags={'mlflow.parentRunId': 'b0284551d2384cb7a5418eae32ba944b',\n",
      " 'mlflow.runName': 'industrious-cub-613',\n",
      " 'mlflow.source.git.commit': '23a313921adf03d4e718b0b7082162f481f0b59d',\n",
      " 'mlflow.source.name': '/home/habeeb/Mlops-proj/02-experimental_tracking/main.py',\n",
      " 'mlflow.source.type': 'LOCAL',\n",
      " 'mlflow.user': 'habeeb'}>, info=<RunInfo: artifact_uri='/home/habeeb/Mlops-proj/02-experimental_tracking/mlruns/2/1f9cf07ca023406f909df1d22f40606b/artifacts', end_time=1750196075795, experiment_id='2', lifecycle_stage='active', run_id='1f9cf07ca023406f909df1d22f40606b', run_name='industrious-cub-613', run_uuid='1f9cf07ca023406f909df1d22f40606b', start_time=1750196000959, status='FINISHED', user_id='habeeb'>, inputs=<RunInputs: dataset_inputs=[]>>]\n"
     ]
    }
   ],
   "source": [
    "from mlflow.entities import ViewType\n",
    "runs = client.search_runs(\n",
    "    experiment_ids=[\"2\"],\n",
    "    filter_string=\"metrics.rmse < 9\",\n",
    "    order_by=[\"metrics.rmse ASC\"],\n",
    "    run_view_type=ViewType.ACTIVE_ONLY,\n",
    "    max_results=5\n",
    ")\n",
    "print(runs)"
   ]
  },
  {
   "cell_type": "code",
   "execution_count": 21,
   "id": "70088b56",
   "metadata": {},
   "outputs": [],
   "source": [
    "metric='rmse'\n",
    "\n",
    "all_runs = client.search_runs(\n",
    "        experiment_ids=[\"1\"],\n",
    "        filter_string=\"\",\n",
    "        run_view_type=ViewType.ACTIVE_ONLY,\n",
    "        max_results=200\n",
    "    )\n",
    "\n",
    "parent_runs = [\n",
    "    run for run in all_runs\n",
    "    if \"mlflow.parentRunId\" not in run.data.tags and metric in run.data.metrics\n",
    "]\n",
    "\n",
    "if not parent_runs:\n",
    "    print(\"No parent runs with the specified metric found.\")"
   ]
  },
  {
   "cell_type": "code",
   "execution_count": 22,
   "id": "54cfb4a1",
   "metadata": {},
   "outputs": [
    {
     "data": {
      "text/plain": [
       "'f45e23cfb3e042fbbe74b7c38fd532d5'"
      ]
     },
     "execution_count": 22,
     "metadata": {},
     "output_type": "execute_result"
    }
   ],
   "source": [
    "parent_runs[:1][0].info.run_id"
   ]
  },
  {
   "cell_type": "code",
   "execution_count": 23,
   "id": "b6334a27",
   "metadata": {},
   "outputs": [
    {
     "data": {
      "text/plain": [
       "6.429093486876433"
      ]
     },
     "execution_count": 23,
     "metadata": {},
     "output_type": "execute_result"
    }
   ],
   "source": [
    "parent_runs[:1][0].data.metrics[metric]"
   ]
  },
  {
   "cell_type": "code",
   "execution_count": 24,
   "id": "94fa6eed",
   "metadata": {},
   "outputs": [
    {
     "data": {
      "text/plain": [
       "'mlflow-artifacts:/1/f45e23cfb3e042fbbe74b7c38fd532d5/artifacts'"
      ]
     },
     "execution_count": 24,
     "metadata": {},
     "output_type": "execute_result"
    }
   ],
   "source": [
    "run = client.get_run(parent_runs[:1][0].info.run_id)\n",
    "artifact_uri = run.info.artifact_uri\n",
    "artifact_uri"
   ]
  },
  {
   "cell_type": "code",
   "execution_count": 28,
   "id": "7e66fcd1",
   "metadata": {},
   "outputs": [
    {
     "data": {
      "text/plain": [
       "<Run: data=<RunData: metrics={'mae': 4.242991482376694,\n",
       " 'mse': 41.33324306299698,\n",
       " 'r2': 0.7210381205739279,\n",
       " 'rmse': 6.429093486876433}, params={'categorical_transformer': 'onehot',\n",
       " 'numerical_transformer': 'none',\n",
       " 'objective': 'reg:squarederror',\n",
       " 'seed': '42'}, tags={'developer': 'habeeb',\n",
       " 'mlflow.log-model.history': '[{\"run_id\": \"f45e23cfb3e042fbbe74b7c38fd532d5\", '\n",
       "                             '\"artifact_path\": \"model\", \"utc_time_created\": '\n",
       "                             '\"2025-06-17 19:42:59.821940\", \"model_uuid\": '\n",
       "                             '\"04bc9e915b9d48bfa04ea448a245351f\", \"flavors\": '\n",
       "                             '{\"python_function\": {\"model_path\": \"model.pkl\", '\n",
       "                             '\"predict_fn\": \"predict\", \"loader_module\": '\n",
       "                             '\"mlflow.sklearn\", \"python_version\": \"3.12.7\", '\n",
       "                             '\"env\": {\"conda\": \"conda.yaml\", \"virtualenv\": '\n",
       "                             '\"python_env.yaml\"}}, \"sklearn\": '\n",
       "                             '{\"pickled_model\": \"model.pkl\", '\n",
       "                             '\"sklearn_version\": \"1.5.1\", '\n",
       "                             '\"serialization_format\": \"cloudpickle\", \"code\": '\n",
       "                             'null}}}]',\n",
       " 'mlflow.runName': 'XGBoost',\n",
       " 'mlflow.source.git.commit': '23a313921adf03d4e718b0b7082162f481f0b59d',\n",
       " 'mlflow.source.name': '/home/habeeb/Mlops-proj/02-experimental_tracking/main.py',\n",
       " 'mlflow.source.type': 'LOCAL',\n",
       " 'mlflow.user': 'habeeb',\n",
       " 'model_type': 'XGBoost',\n",
       " 'train_data': '2021-1-green',\n",
       " 'val_data': '2021-2-green'}>, info=<RunInfo: artifact_uri='mlflow-artifacts:/1/f45e23cfb3e042fbbe74b7c38fd532d5/artifacts', end_time=1750189382929, experiment_id='1', lifecycle_stage='active', run_id='f45e23cfb3e042fbbe74b7c38fd532d5', run_name='XGBoost', run_uuid='f45e23cfb3e042fbbe74b7c38fd532d5', start_time=1750189371830, status='FINISHED', user_id='habeeb'>, inputs=<RunInputs: dataset_inputs=[]>>"
      ]
     },
     "execution_count": 28,
     "metadata": {},
     "output_type": "execute_result"
    }
   ],
   "source": [
    "run"
   ]
  },
  {
   "cell_type": "code",
   "execution_count": 15,
   "id": "885a3dc1",
   "metadata": {},
   "outputs": [],
   "source": [
    "from typing import Dict, List, Tuple, Union, Optional, Any\n",
    "import pandas as pd\n",
    "import yaml\n",
    "import urllib.parse"
   ]
  },
  {
   "cell_type": "code",
   "execution_count": 17,
   "id": "78bca81b",
   "metadata": {},
   "outputs": [
    {
     "data": {
      "text/plain": [
       "ParseResult(scheme='gs', netloc='mlfflow-bucket-nyc', path='/1', params='', query='', fragment='')"
      ]
     },
     "execution_count": 17,
     "metadata": {},
     "output_type": "execute_result"
    }
   ],
   "source": [
    "urllib.parse.urlparse('gs://mlfflow-bucket-nyc/1')"
   ]
  },
  {
   "cell_type": "code",
   "execution_count": 25,
   "id": "ac00d1bc",
   "metadata": {},
   "outputs": [
    {
     "data": {
      "text/plain": [
       "ParseResult(scheme='mlflow-artifacts', netloc='', path='/1/f45e23cfb3e042fbbe74b7c38fd532d5/artifacts', params='', query='', fragment='')"
      ]
     },
     "execution_count": 25,
     "metadata": {},
     "output_type": "execute_result"
    }
   ],
   "source": [
    "parsed = urllib.parse.urlparse(artifact_uri)\n",
    "parsed"
   ]
  },
  {
   "cell_type": "code",
   "execution_count": 20,
   "id": "2dad05d8",
   "metadata": {},
   "outputs": [
    {
     "data": {
      "text/plain": [
       "True"
      ]
     },
     "execution_count": 20,
     "metadata": {},
     "output_type": "execute_result"
    }
   ],
   "source": [
    "parsed.scheme==\"\""
   ]
  },
  {
   "cell_type": "code",
   "execution_count": 27,
   "id": "6de5e4e0",
   "metadata": {},
   "outputs": [
    {
     "data": {
      "text/plain": [
       "'mlflow-artifacts:/1/f45e23cfb3e042fbbe74b7c38fd532d5/artifacts/model/MLmodel'"
      ]
     },
     "execution_count": 27,
     "metadata": {},
     "output_type": "execute_result"
    }
   ],
   "source": [
    "os.path.join(artifact_uri, \"model\", \"MLmodel\")"
   ]
  },
  {
   "cell_type": "code",
   "execution_count": 26,
   "id": "5a90d602",
   "metadata": {},
   "outputs": [
    {
     "data": {
      "text/plain": [
       "'/1/f45e23cfb3e042fbbe74b7c38fd532d5/artifacts/model/MLmodel'"
      ]
     },
     "execution_count": 26,
     "metadata": {},
     "output_type": "execute_result"
    }
   ],
   "source": [
    "os.path.join(parsed.path, \"model\", \"MLmodel\")"
   ]
  },
  {
   "cell_type": "code",
   "execution_count": null,
   "id": "b015440a",
   "metadata": {},
   "outputs": [
    {
     "data": {
      "text/plain": [
       "[<Run: data=<RunData: metrics={'mae': 4.284408121113809,\n",
       "  'mse': 42.87294792226681,\n",
       "  'r2': 0.7106465101056003,\n",
       "  'rmse': 6.547743727595545}, params={'categorical_transformer': 'onehot',\n",
       "  'numerical_transformer': 'none',\n",
       "  'objective': 'reg:squarederror',\n",
       "  'seed': '42'}, tags={'developer': 'habeeb',\n",
       "  'mlflow.log-model.history': '[{\"run_id\": \"ee510635d77b4672850c00f20462a362\", '\n",
       "                              '\"artifact_path\": \"model\", \"utc_time_created\": '\n",
       "                              '\"2025-06-17 21:40:22.929820\", \"model_uuid\": '\n",
       "                              '\"94bf43eb0b1744a19b14b5a0e8489dc0\", \"flavors\": '\n",
       "                              '{\"python_function\": {\"model_path\": \"model.pkl\", '\n",
       "                              '\"predict_fn\": \"predict\", \"loader_module\": '\n",
       "                              '\"mlflow.sklearn\", \"python_version\": \"3.12.7\", '\n",
       "                              '\"env\": {\"conda\": \"conda.yaml\", \"virtualenv\": '\n",
       "                              '\"python_env.yaml\"}}, \"sklearn\": '\n",
       "                              '{\"pickled_model\": \"model.pkl\", '\n",
       "                              '\"sklearn_version\": \"1.5.1\", '\n",
       "                              '\"serialization_format\": \"cloudpickle\", \"code\": '\n",
       "                              'null}}}]',\n",
       "  'mlflow.runName': 'XGBoost',\n",
       "  'mlflow.source.git.commit': '23a313921adf03d4e718b0b7082162f481f0b59d',\n",
       "  'mlflow.source.name': '/home/habeeb/Mlops-proj/02-experimental_tracking/main.py',\n",
       "  'mlflow.source.type': 'LOCAL',\n",
       "  'mlflow.user': 'habeeb',\n",
       "  'model_type': 'XGBoost',\n",
       "  'train_data': '2021-1-green',\n",
       "  'val_data': '2021-2-green'}>, info=<RunInfo: artifact_uri='/home/habeeb/Mlops-proj/02-experimental_tracking/mlruns/2/ee510635d77b4672850c00f20462a362/artifacts', end_time=1750196425974, experiment_id='2', lifecycle_stage='active', run_id='ee510635d77b4672850c00f20462a362', run_name='XGBoost', run_uuid='ee510635d77b4672850c00f20462a362', start_time=1750196414755, status='FINISHED', user_id='habeeb'>, inputs=<RunInputs: dataset_inputs=[]>>]"
      ]
     },
     "execution_count": 10,
     "metadata": {},
     "output_type": "execute_result"
    }
   ],
   "source": [
    "run_try = parent_runs[:1].info.run_id\n",
    "run_id = run_try.info.run_id"
   ]
  }
 ],
 "metadata": {
  "kernelspec": {
   "display_name": "serverlessML",
   "language": "python",
   "name": "python3"
  },
  "language_info": {
   "codemirror_mode": {
    "name": "ipython",
    "version": 3
   },
   "file_extension": ".py",
   "mimetype": "text/x-python",
   "name": "python",
   "nbconvert_exporter": "python",
   "pygments_lexer": "ipython3",
   "version": "3.12.7"
  }
 },
 "nbformat": 4,
 "nbformat_minor": 5
}
