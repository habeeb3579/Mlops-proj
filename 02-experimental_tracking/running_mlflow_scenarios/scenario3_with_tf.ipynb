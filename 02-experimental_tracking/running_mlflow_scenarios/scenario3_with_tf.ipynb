{
 "cells": [
  {
   "cell_type": "markdown",
   "id": "8c2a3039",
   "metadata": {},
   "source": [
    "# Scenario 3b: Multiple data scientists working on multiple ML models (with terraform)\n",
    "\n",
    "MLflow setup:\n",
    "\n",
    "- Tracking server: yes, remote server (GCP VM).\n",
    "- Backend store: postgresql database.\n",
    "- Artifacts store: GC bucket.\n",
    "The experiments can be explored by accessing the remote server.\n",
    "\n",
    "The exampe uses GCP to host a remote server. In order to run the example you'll need an GCP account."
   ]
  },
  {
   "cell_type": "code",
   "execution_count": 1,
   "id": "886c1372",
   "metadata": {},
   "outputs": [],
   "source": [
    "import os\n",
    "\n",
    "os.environ['GOOGLE_APPLICATION_CREDENTIALS']=\"/home/habeeb/dprof-dezoomfinal-b4d188529d18.json\""
   ]
  },
  {
   "cell_type": "code",
   "execution_count": 2,
   "id": "27637690",
   "metadata": {},
   "outputs": [
    {
     "name": "stderr",
     "output_type": "stream",
     "text": [
      "2025/06/04 12:15:49 INFO mlflow.tracking.fluent: Experiment with name 'my-gcp-experiment' does not exist. Creating a new experiment.\n"
     ]
    },
    {
     "data": {
      "text/plain": [
       "<Experiment: artifact_location='gs://dezoomfinal-mlflow-artifacts/1', creation_time=1749060949843, experiment_id='1', last_update_time=1749060949843, lifecycle_stage='active', name='my-gcp-experiment', tags={}>"
      ]
     },
     "execution_count": 2,
     "metadata": {},
     "output_type": "execute_result"
    }
   ],
   "source": [
    "import mlflow\n",
    "import os\n",
    "\n",
    "TRACKING_SERVER_HOST = \"35.224.212.79\" # fill in with the public IP\n",
    "mlflow.set_tracking_uri(f\"http://{TRACKING_SERVER_HOST}:5000\")\n",
    "mlflow.set_experiment(\"my-gcp-experiment\")"
   ]
  },
  {
   "cell_type": "code",
   "execution_count": 3,
   "id": "63ec38c2",
   "metadata": {},
   "outputs": [
    {
     "name": "stderr",
     "output_type": "stream",
     "text": [
      "\u001b[31m2025/06/04 12:16:10 WARNING mlflow.models.model: Model logged without a signature and input example. Please set `input_example` parameter when logging the model to auto infer the model signature.\u001b[0m\n"
     ]
    },
    {
     "name": "stdout",
     "output_type": "stream",
     "text": [
      "default artifacts URI: 'gs://dezoomfinal-mlflow-artifacts/1/7bf08e50f170410b80f4237d2a95c83d/artifacts'\n",
      "🏃 View run luxuriant-seal-991 at: http://35.224.212.79:5000/#/experiments/1/runs/7bf08e50f170410b80f4237d2a95c83d\n",
      "🧪 View experiment at: http://35.224.212.79:5000/#/experiments/1\n"
     ]
    }
   ],
   "source": [
    "from sklearn.linear_model import LogisticRegression\n",
    "from sklearn.datasets import load_iris\n",
    "from sklearn.metrics import accuracy_score\n",
    "\n",
    "#mlflow.set_experiment(\"my-experiment-1\")\n",
    "\n",
    "with mlflow.start_run():\n",
    "\n",
    "    X, y = load_iris(return_X_y=True)\n",
    "\n",
    "    params = {\"C\": 0.1, \"random_state\": 42}\n",
    "    mlflow.log_params(params)\n",
    "\n",
    "    lr = LogisticRegression(**params).fit(X, y)\n",
    "    y_pred = lr.predict(X)\n",
    "    mlflow.log_metric(\"accuracy\", accuracy_score(y, y_pred))\n",
    "\n",
    "    mlflow.sklearn.log_model(lr, artifact_path=\"models\")\n",
    "    print(f\"default artifacts URI: '{mlflow.get_artifact_uri()}'\")"
   ]
  },
  {
   "cell_type": "code",
   "execution_count": 4,
   "id": "3ae44fa5",
   "metadata": {},
   "outputs": [
    {
     "data": {
      "text/plain": [
       "[<Experiment: artifact_location='gs://mlfflow-bucket-nyc/1', creation_time=1747605570875, experiment_id='1', last_update_time=1747605570875, lifecycle_stage='active', name='my-gcp-experiment', tags={}>,\n",
       " <Experiment: artifact_location='gs://mlfflow-bucket-nyc/0', creation_time=1747603153225, experiment_id='0', last_update_time=1747603153225, lifecycle_stage='active', name='Default', tags={}>]"
      ]
     },
     "execution_count": 4,
     "metadata": {},
     "output_type": "execute_result"
    }
   ],
   "source": [
    "mlflow.search_experiments()"
   ]
  },
  {
   "cell_type": "code",
   "execution_count": 5,
   "id": "497d91d3",
   "metadata": {},
   "outputs": [],
   "source": [
    "from mlflow.tracking import MlflowClient\n",
    "\n",
    "\n",
    "client = MlflowClient(f\"http://{TRACKING_SERVER_HOST}:5000\")"
   ]
  },
  {
   "cell_type": "code",
   "execution_count": 7,
   "id": "9f587158",
   "metadata": {},
   "outputs": [
    {
     "data": {
      "text/plain": [
       "[]"
      ]
     },
     "execution_count": 7,
     "metadata": {},
     "output_type": "execute_result"
    }
   ],
   "source": [
    "client.search_registered_models()"
   ]
  },
  {
   "cell_type": "code",
   "execution_count": 8,
   "id": "1e357aff",
   "metadata": {},
   "outputs": [
    {
     "name": "stdout",
     "output_type": "stream",
     "text": [
      "[<Run: data=<RunData: metrics={'accuracy': 0.96}, params={'C': '0.1', 'random_state': '42'}, tags={'mlflow.log-model.history': '[{\"run_id\": \"697fabbc2d02471090e6db6038926565\", '\n",
      "                             '\"artifact_path\": \"models\", \"utc_time_created\": '\n",
      "                             '\"2025-05-18 22:13:22.454335\", \"model_uuid\": '\n",
      "                             '\"dd3a3a3ae92d4f27ba23a97049bb93b7\", \"flavors\": '\n",
      "                             '{\"python_function\": {\"model_path\": \"model.pkl\", '\n",
      "                             '\"predict_fn\": \"predict\", \"loader_module\": '\n",
      "                             '\"mlflow.sklearn\", \"python_version\": \"3.12.7\", '\n",
      "                             '\"env\": {\"conda\": \"conda.yaml\", \"virtualenv\": '\n",
      "                             '\"python_env.yaml\"}}, \"sklearn\": '\n",
      "                             '{\"pickled_model\": \"model.pkl\", '\n",
      "                             '\"sklearn_version\": \"1.5.1\", '\n",
      "                             '\"serialization_format\": \"cloudpickle\", \"code\": '\n",
      "                             'null}}}]',\n",
      " 'mlflow.runName': 'auspicious-deer-575',\n",
      " 'mlflow.source.name': '/home/habeeb/miniconda3/envs/serverlessML/lib/python3.12/site-packages/ipykernel_launcher.py',\n",
      " 'mlflow.source.type': 'LOCAL',\n",
      " 'mlflow.user': 'habeeb'}>, info=<RunInfo: artifact_uri='gs://mlfflow-bucket-nyc/1/697fabbc2d02471090e6db6038926565/artifacts', end_time=1747606408171, experiment_id='1', lifecycle_stage='active', run_id='697fabbc2d02471090e6db6038926565', run_name='auspicious-deer-575', run_uuid='697fabbc2d02471090e6db6038926565', start_time=1747606401833, status='FINISHED', user_id='habeeb'>, inputs=<RunInputs: dataset_inputs=[]>>]\n"
     ]
    }
   ],
   "source": [
    "from mlflow.entities import ViewType\n",
    "runs = client.search_runs(\n",
    "    experiment_ids=[\"1\"],\n",
    "    filter_string=\"\",\n",
    "    order_by=[\"metrics.rmse ASC\"],\n",
    "    run_view_type=ViewType.ACTIVE_ONLY,\n",
    "    max_results=5\n",
    ")\n",
    "print(runs)"
   ]
  },
  {
   "cell_type": "code",
   "execution_count": 9,
   "id": "c51a7d1d",
   "metadata": {},
   "outputs": [],
   "source": [
    "first_run_id = runs[0].info.run_id"
   ]
  },
  {
   "cell_type": "code",
   "execution_count": 10,
   "id": "06e3c62f",
   "metadata": {},
   "outputs": [
    {
     "name": "stderr",
     "output_type": "stream",
     "text": [
      "Successfully registered model 'iris-classifier'.\n",
      "2025/05/18 16:15:51 INFO mlflow.store.model_registry.abstract_store: Waiting up to 300 seconds for model version to finish creation. Model name: iris-classifier, version 1\n",
      "Created version '1' of model 'iris-classifier'.\n"
     ]
    },
    {
     "data": {
      "text/plain": [
       "<ModelVersion: aliases=[], creation_timestamp=1747606551812, current_stage='None', description='', last_updated_timestamp=1747606551812, name='iris-classifier', run_id='697fabbc2d02471090e6db6038926565', run_link='', source='gs://mlfflow-bucket-nyc/1/697fabbc2d02471090e6db6038926565/artifacts/models', status='READY', status_message=None, tags={}, user_id='', version='1'>"
      ]
     },
     "execution_count": 10,
     "metadata": {},
     "output_type": "execute_result"
    }
   ],
   "source": [
    "mlflow.register_model(\n",
    "    model_uri=f'runs:/{first_run_id}/models',\n",
    "    name='iris-classifier'\n",
    ")"
   ]
  },
  {
   "cell_type": "code",
   "execution_count": null,
   "id": "6c858f6f",
   "metadata": {},
   "outputs": [],
   "source": []
  }
 ],
 "metadata": {
  "kernelspec": {
   "display_name": "serverlessML",
   "language": "python",
   "name": "python3"
  },
  "language_info": {
   "codemirror_mode": {
    "name": "ipython",
    "version": 3
   },
   "file_extension": ".py",
   "mimetype": "text/x-python",
   "name": "python",
   "nbconvert_exporter": "python",
   "pygments_lexer": "ipython3",
   "version": "3.12.7"
  }
 },
 "nbformat": 4,
 "nbformat_minor": 5
}
