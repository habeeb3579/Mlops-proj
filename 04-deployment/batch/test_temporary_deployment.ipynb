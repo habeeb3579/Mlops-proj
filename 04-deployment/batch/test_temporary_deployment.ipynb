{
 "cells": [
  {
   "cell_type": "code",
   "execution_count": 2,
   "id": "adcf0aab",
   "metadata": {},
   "outputs": [
    {
     "name": "stdout",
     "output_type": "stream",
     "text": [
      "Creating flow run for deployment 'apply-model-flow/taxi-model-deployment'...\n",
      "Created flow run 'mature-smilodon'.\n",
      "└── UUID: 880e942b-6154-4f60-bade-f7c8863fbafe\n",
      "└── Parameters: {'taxi': 'green', 'year': 2021, 'month': 4, 'tracking_server': 'http://localhost:5000', 'model_name': 'nyc-taxi-regressor-weighted-main9', 'deployment_type': 'local'}\n",
      "└── Job Variables: {}\n",
      "└── Scheduled start time: 2025-06-17 19:59:33 MDT (now)\n",
      "└── URL: http://127.0.0.1:4200/runs/flow-run/880e942b-6154-4f60-bade-f7c8863fbafe\n"
     ]
    }
   ],
   "source": [
    "!prefect deployment run 'apply-model-flow/taxi-model-deployment'"
   ]
  },
  {
   "cell_type": "markdown",
   "id": "c14ad94c",
   "metadata": {},
   "source": [
    "## run deployment with docker"
   ]
  },
  {
   "cell_type": "code",
   "execution_count": 3,
   "id": "8b449223",
   "metadata": {},
   "outputs": [
    {
     "name": "stdout",
     "output_type": "stream",
     "text": [
      "Creating flow run for deployment \n",
      "'apply-model-flow/taxi-model-deployment-docker'...\n",
      "Created flow run 'garnet-unicorn'.\n",
      "└── UUID: 284ef542-697a-4192-9007-9d5c3c5b8429\n",
      "└── Parameters: {'taxi': 'green', 'year': 2021, 'month': 4, 'tracking_server': 'http://localhost:5000', 'model_name': 'nyc-taxi-regressor-weighted-main9', 'deployment_type': 'local'}\n",
      "└── Job Variables: {}\n",
      "└── Scheduled start time: 2025-06-17 23:15:30 MDT (now)\n",
      "└── URL: http://127.0.0.1:4200/runs/flow-run/284ef542-697a-4192-9007-9d5c3c5b8429\n"
     ]
    }
   ],
   "source": [
    "!prefect deployment run 'apply-model-flow/taxi-model-deployment-docker'"
   ]
  },
  {
   "cell_type": "markdown",
   "id": "1a47ee5a",
   "metadata": {},
   "source": [
    "## run deployment with process workpool"
   ]
  },
  {
   "cell_type": "code",
   "execution_count": 1,
   "id": "d4f7c7f4",
   "metadata": {},
   "outputs": [
    {
     "name": "stdout",
     "output_type": "stream",
     "text": [
      "Creating flow run for deployment \n",
      "'apply-model-flow/taxi-model-deployment-process'...\n",
      "Created flow run 'energetic-chowchow'.\n",
      "└── UUID: d56f4905-ba38-4584-bd9a-3237259e2e15\n",
      "└── Parameters: {'taxi': 'green', 'year': 2021, 'month': 4, 'tracking_server': 'http://localhost:5000', 'model_name': 'nyc-taxi-regressor-weighted-main9', 'deployment_type': 'local'}\n",
      "└── Job Variables: {}\n",
      "└── Scheduled start time: 2025-06-18 02:00:40 MDT (now)\n",
      "└── URL: http://127.0.0.1:4200/runs/flow-run/d56f4905-ba38-4584-bd9a-3237259e2e15\n"
     ]
    }
   ],
   "source": [
    "!prefect deployment run 'apply-model-flow/taxi-model-deployment-process'"
   ]
  },
  {
   "cell_type": "code",
   "execution_count": 5,
   "id": "ef65125d",
   "metadata": {},
   "outputs": [
    {
     "name": "stdout",
     "output_type": "stream",
     "text": [
      "Creating flow run for deployment \n",
      "'apply-model-flow/taxi-model-deployment-process'...\n",
      "Created flow run 'pearl-pogona'.\n",
      "└── UUID: 49d23cfd-06bb-4b00-b04d-e8052ae6ac60\n",
      "└── Parameters: {'taxi': 'green', 'year': 2021, 'month': 10, 'tracking_server': 'http://localhost:5000', 'model_name': 'nyc-taxi-regressor-weighted-main9', 'deployment_type': 'local'}\n",
      "└── Job Variables: {}\n",
      "└── Scheduled start time: 2025-06-18 02:07:55 MDT (now)\n",
      "└── URL: http://127.0.0.1:4200/runs/flow-run/49d23cfd-06bb-4b00-b04d-e8052ae6ac60\n"
     ]
    }
   ],
   "source": [
    "!prefect deployment run 'apply-model-flow/taxi-model-deployment-process' \\\n",
    "  --param \"taxi=green\" \\\n",
    "  --param \"year=2021\" \\\n",
    "  --param \"month=10\" \\\n",
    "  --param \"tracking_server=http://localhost:5000\" \\\n",
    "  --param \"model_name=nyc-taxi-regressor-weighted-main9\" \\\n",
    "  --param \"deployment_type=local\" "
   ]
  },
  {
   "cell_type": "code",
   "execution_count": null,
   "id": "8aefe082",
   "metadata": {},
   "outputs": [],
   "source": []
  },
  {
   "cell_type": "code",
   "execution_count": null,
   "id": "01363653",
   "metadata": {},
   "outputs": [],
   "source": []
  },
  {
   "cell_type": "markdown",
   "id": "7701f8ae",
   "metadata": {},
   "source": [
    "## run backfill with 'apply-model-flow/taxi-model-deployment'"
   ]
  },
  {
   "cell_type": "code",
   "execution_count": 2,
   "id": "cafe8c36",
   "metadata": {},
   "outputs": [
    {
     "name": "stdout",
     "output_type": "stream",
     "text": [
      "🔍 Checking available deployments...\n",
      "📋 Available deployments:\n",
      "deployment: id=UUID('00a7e8bb-df19-470a-ae26-54656b1232cc') name='taxi-model-deployment' version='1.0.0' version_id=None version_info=None branch=None base=None root=None description='Local deployment for applying ML models to taxi data' flow_id=UUID('f46a531e-a28f-418e-a06b-f474da9ed65c') concurrency_limit=None global_concurrency_limit=None concurrency_options=None paused=False schedules=[] job_variables={} parameters={'taxi': 'green', 'year': 2021, 'month': 4, 'tracking_server': 'http://localhost:5000', 'model_name': 'nyc-taxi-regressor-weighted-main9', 'deployment_type': 'local'} pull_steps=[] tags=['ml', 'taxi', 'batch-processing', 'local'] labels={'prefect.flow.id': 'f46a531e-a28f-418e-a06b-f474da9ed65c'} work_queue_name=None last_polled=DateTime(2025, 6, 18, 4, 31, 29, 754487, tzinfo=Timezone('UTC')) parameter_openapi_schema={'title': 'Parameters', 'type': 'object', 'properties': {'taxi': {'default': 'green', 'position': 0, 'title': 'taxi', 'type': 'string'}, 'year': {'default': 2021, 'position': 1, 'title': 'year', 'type': 'integer'}, 'month': {'default': 2, 'position': 2, 'title': 'month', 'type': 'integer'}, 'tracking_server': {'default': 'http://127.0.0.1:5000', 'position': 3, 'title': 'tracking_server', 'type': 'string'}, 'model_name': {'default': 'nyc-taxi-regressor-weighted-main9', 'position': 4, 'title': 'model_name', 'type': 'string'}, 'deployment_type': {'default': 'local', 'position': 5, 'title': 'deployment_type', 'type': 'string'}, 'run_date': {'anyOf': [{'type': 'string'}, {'type': 'null'}], 'default': None, 'position': 6, 'title': 'run_date'}}} path='.' entrypoint='score_updated.py:apply_model_flow' storage_document_id=None infrastructure_document_id=None created_by=None updated_by=None work_queue_id=None enforce_parameter_schema=True work_pool_name=None status=DeploymentStatus.READY\n",
      "  - taxi-model-deployment (ID: 00a7e8bb-df19-470a-ae26-54656b1232cc)\n",
      "    Flow: f46a531e-a28f-418e-a06b-f474da9ed65c\n",
      "deployment: id=UUID('56c318a1-8cf5-4c1c-a7a4-3a32457785ee') name='taxi1' version=None version_id=None version_info=None branch=None base=None root=None description='The main training pipeline' flow_id=UUID('eb1a7e4b-b339-4456-b1b7-eba8d3b07bd2') concurrency_limit=None global_concurrency_limit=None concurrency_options=None paused=False schedules=[] job_variables={} parameters={} pull_steps=[{'prefect.deployments.steps.git_clone': {'repository': 'https://github.com/habeeb3579/Mlops-proj.git', 'branch': 'main', 'access_token': None}}] tags=[] labels={} work_queue_name='default' last_polled=DateTime(2025, 6, 18, 4, 13, 57, 126916, tzinfo=Timezone('UTC')) parameter_openapi_schema={'title': 'Parameters', 'type': 'object', 'properties': {'train_path': {'default': '/home/habeeb/Mlops-proj/03-orchestration/mlops-prefect/prefect-mlops-zoomcamp/data/green_tripdata_2023-01.parquet', 'position': 0, 'title': 'train_path', 'type': 'string'}, 'val_path': {'default': '/home/habeeb/Mlops-proj/03-orchestration/mlops-prefect/prefect-mlops-zoomcamp/data/green_tripdata_2023-02.parquet', 'position': 1, 'title': 'val_path', 'type': 'string'}}} path=None entrypoint='3.4/orchestrate.py:main_flow' storage_document_id=None infrastructure_document_id=None created_by=None updated_by=None work_queue_id=None enforce_parameter_schema=False work_pool_name='zoompool' status=DeploymentStatus.NOT_READY\n",
      "  - taxi1 (ID: 56c318a1-8cf5-4c1c-a7a4-3a32457785ee)\n",
      "    Flow: eb1a7e4b-b339-4456-b1b7-eba8d3b07bd2\n",
      "🚀 Starting backfill for green taxi from 2021-07 to 2021-09\n",
      "📋 Using deployment: apply-model-flow/taxi-model-deployment\n",
      "📋 Found deployment ID: 00a7e8bb-df19-470a-ae26-54656b1232cc\n",
      "✅ Created flow run 27ca97df-c3d2-46e1-ba21-fe506bde6dad for green taxi, 2021-08\n",
      "✅ Created flow run 4c6a17f7-ed6e-45fc-8a62-6f904b67cdba for green taxi, 2021-07\n",
      "✅ Created flow run 1db06cab-efa2-4655-b1cb-c4450db85864 for green taxi, 2021-09\n",
      "🎉 Successfully created 3 concurrent flow runs\n",
      "\n",
      "⏳ Waiting a moment before checking status...\n",
      "\n",
      "📊 Checking flow run statuses:\n",
      "  4c6a17f7-ed6e-45fc-8a62-6f904b67cdba: PENDING\n",
      "  27ca97df-c3d2-46e1-ba21-fe506bde6dad: PENDING\n",
      "  1db06cab-efa2-4655-b1cb-c4450db85864: PENDING\n"
     ]
    }
   ],
   "source": [
    "!python score_backfill_prefect.py"
   ]
  },
  {
   "cell_type": "code",
   "execution_count": null,
   "id": "e98dc5d4",
   "metadata": {},
   "outputs": [],
   "source": []
  }
 ],
 "metadata": {
  "kernelspec": {
   "display_name": "Python (prefect-mlops)",
   "language": "python",
   "name": "prefect-mlops"
  },
  "language_info": {
   "codemirror_mode": {
    "name": "ipython",
    "version": 3
   },
   "file_extension": ".py",
   "mimetype": "text/x-python",
   "name": "python",
   "nbconvert_exporter": "python",
   "pygments_lexer": "ipython3",
   "version": "3.10.12"
  }
 },
 "nbformat": 4,
 "nbformat_minor": 5
}
