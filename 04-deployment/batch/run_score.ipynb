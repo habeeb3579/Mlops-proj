{
 "cells": [
  {
   "cell_type": "code",
   "execution_count": 1,
   "id": "2941a096",
   "metadata": {},
   "outputs": [
    {
     "name": "stdout",
     "output_type": "stream",
     "text": [
      "📡 MLflow tracking URI set to: http://localhost:5000\n",
      "2025/06/17 17:49:15 WARNING mlflow.pyfunc: The version of Python that the model was saved in, `Python 3.12.7`, differs from the version of Python that is currently running, `Python 3.10.12`, and may be incompatible\n",
      "🎯 Loaded model: nyc-taxi-regressor-weighted-main9 @ production\n",
      "17:49:16.229 | \u001b[36mINFO\u001b[0m    | Flow run\u001b[35m 'holistic-whippet'\u001b[0m - Beginning flow run\u001b[35m 'holistic-whippet'\u001b[0m for flow\u001b[1;35m 'apply-model-flow'\u001b[0m\n",
      "17:49:16.234 | \u001b[36mINFO\u001b[0m    | Flow run\u001b[35m 'holistic-whippet'\u001b[0m - View at \u001b[94mhttp://127.0.0.1:4200/runs/flow-run/25f12016-c4e6-4d84-9395-766eac4660c0\u001b[0m\n",
      "▶️ Running apply_model for green - 2021-2\n",
      "📅 Run Date: 2025-06-17 23:49:16.154916+00:00\n",
      "Downloading data from https://d37ci6vzurychx.cloudfront.net/trip-data/green_tripdata_2021-02.parquet\n",
      "17:49:16.615 | \u001b[36mINFO\u001b[0m    | Task run 'download_data-bc7' - Finished in state \u001b[32mCompleted\u001b[0m()\n",
      "17:49:16.917 | \u001b[36mINFO\u001b[0m    | Task run 'prepare_df-cc5' - Finished in state \u001b[32mCompleted\u001b[0m()\n",
      "17:49:17.253 | \u001b[36mINFO\u001b[0m    | Task run 'predict-407' - Finished in state \u001b[32mCompleted\u001b[0m()\n",
      "✅ Results saved to output/green/2021-02.parquet\n",
      "17:49:17.485 | \u001b[36mINFO\u001b[0m    | Task run 'save_predictions-f0c' - Finished in state \u001b[32mCompleted\u001b[0m()\n",
      "17:49:17.512 | \u001b[36mINFO\u001b[0m    | Flow run\u001b[35m 'holistic-whippet'\u001b[0m - Finished in state \u001b[32mCompleted\u001b[0m()\n"
     ]
    }
   ],
   "source": [
    "!python score.py \\\n",
    "  --taxi green \\\n",
    "  --year 2021 \\\n",
    "  --month 2 \\\n",
    "  --tracking-server \"http://localhost:5000\" \\\n",
    "  --model-name \"nyc-taxi-regressor-weighted-main9\" \\\n",
    "  --deployment-type \"local\""
   ]
  },
  {
   "cell_type": "code",
   "execution_count": 1,
   "id": "e860492d",
   "metadata": {},
   "outputs": [
    {
     "name": "stdout",
     "output_type": "stream",
     "text": [
      "19:55:18.682 | \u001b[36mINFO\u001b[0m    | Flow run\u001b[35m 'banana-yak'\u001b[0m - Beginning flow run\u001b[35m 'banana-yak'\u001b[0m for flow\u001b[1;35m 'apply-model-flow'\u001b[0m\n",
      "19:55:18.689 | \u001b[36mINFO\u001b[0m    | Flow run\u001b[35m 'banana-yak'\u001b[0m - View at \u001b[94mhttp://127.0.0.1:4200/runs/flow-run/3dde12e6-280b-4be8-8d24-a74a12b72967\u001b[0m\n",
      "▶️ Running apply_model for green - 2021-3\n",
      "📅 Run Date: 2025-06-18 01:55:18.621378+00:00\n",
      "📡 MLflow tracking URI set to: http://localhost:5000\n",
      "2025/06/17 19:55:19 WARNING mlflow.pyfunc: The version of Python that the model was saved in, `Python 3.12.7`, differs from the version of Python that is currently running, `Python 3.10.12`, and may be incompatible\n",
      "🎯 Loaded model: nyc-taxi-regressor-weighted-main9 @ production\n",
      "19:55:19.909 | \u001b[36mINFO\u001b[0m    | Task run 'setup_environment_and_load_model-000' - Finished in state \u001b[32mCompleted\u001b[0m()\n",
      "Downloading data from https://d37ci6vzurychx.cloudfront.net/trip-data/green_tripdata_2021-03.parquet\n",
      "19:55:20.786 | \u001b[36mINFO\u001b[0m    | Task run 'download_data-480' - Finished in state \u001b[32mCompleted\u001b[0m()\n",
      "19:55:21.297 | \u001b[36mINFO\u001b[0m    | Task run 'prepare_df-2d1' - Finished in state \u001b[32mCompleted\u001b[0m()\n",
      "19:55:21.684 | \u001b[36mINFO\u001b[0m    | Task run 'predict-cfb' - Finished in state \u001b[32mCompleted\u001b[0m()\n",
      "✅ Results saved to output/green/2021-03.parquet\n",
      "19:55:21.991 | \u001b[36mINFO\u001b[0m    | Task run 'save_predictions-bbb' - Finished in state \u001b[32mCompleted\u001b[0m()\n",
      "19:55:22.021 | \u001b[36mINFO\u001b[0m    | Flow run\u001b[35m 'banana-yak'\u001b[0m - Finished in state \u001b[32mCompleted\u001b[0m()\n"
     ]
    }
   ],
   "source": [
    "!python score_updated.py \\\n",
    "  --taxi green \\\n",
    "  --year 2021 \\\n",
    "  --month 3 \\\n",
    "  --tracking-server \"http://localhost:5000\" \\\n",
    "  --model-name \"nyc-taxi-regressor-weighted-main9\" \\\n",
    "  --deployment-type \"local\""
   ]
  },
  {
   "cell_type": "markdown",
   "id": "e8526909",
   "metadata": {},
   "source": [
    "## Deploy: method 1: no workpool needed"
   ]
  },
  {
   "cell_type": "code",
   "execution_count": 1,
   "id": "b0ab4c92",
   "metadata": {},
   "outputs": [
    {
     "name": "stdout",
     "output_type": "stream",
     "text": [
      "🚀 Serving apply_model_flow locally...\n",
      "This will create a deployment and start a worker automatically.\n",
      "Press Ctrl+C to stop.\n",
      "\u001b[32mYour flow \u001b[0m\u001b[32m'apply-model-flow'\u001b[0m\u001b[32m is being served and polling for scheduled runs!\u001b[0m\n",
      "\n",
      "To trigger a run for this flow, use the following command:\n",
      "\n",
      "\u001b[34m        \u001b[0m\u001b[34m$ prefect deployment run \u001b[0m\u001b[34m'apply-model-flow/taxi-model-deployment'\u001b[0m\n",
      "\n",
      "You can also run your flow via the Prefect UI: \u001b[4;34mhttp://127.0.0.1:4200/deployments/deployment/00a7e8bb-df19-470a-ae26-54656b1232cc\u001b[0m\n",
      "\n",
      "22:31:40.704 | \u001b[36mINFO\u001b[0m    | prefect.flow_runs.runner - Runner 'taxi-model-deployment' submitting flow run\u001b[35m '4c6a17f7-ed6e-45fc-8a62-6f904b67cdba'\u001b[0m\n",
      "22:31:40.712 | \u001b[36mINFO\u001b[0m    | prefect.flow_runs.runner - Runner 'taxi-model-deployment' submitting flow run\u001b[35m '27ca97df-c3d2-46e1-ba21-fe506bde6dad'\u001b[0m\n",
      "22:31:40.712 | \u001b[36mINFO\u001b[0m    | prefect.flow_runs.runner - Runner 'taxi-model-deployment' submitting flow run\u001b[35m '1db06cab-efa2-4655-b1cb-c4450db85864'\u001b[0m\n",
      "22:31:40.745 | \u001b[36mINFO\u001b[0m    | prefect.flow_runs.runner - Opening process...\n",
      "22:31:40.766 | \u001b[36mINFO\u001b[0m    | prefect.flow_runs.runner - Opening process...\n",
      "22:31:40.784 | \u001b[36mINFO\u001b[0m    | prefect.flow_runs.runner - Opening process...\n",
      "22:31:40.802 | \u001b[36mINFO\u001b[0m    | prefect.flow_runs.runner - \u001b[32mCompleted\u001b[0m submission of flow run\u001b[35m '4c6a17f7-ed6e-45fc-8a62-6f904b67cdba'\u001b[0m\n",
      "22:31:40.803 | \u001b[36mINFO\u001b[0m    | prefect.flow_runs.runner - \u001b[32mCompleted\u001b[0m submission of flow run\u001b[35m '27ca97df-c3d2-46e1-ba21-fe506bde6dad'\u001b[0m\n",
      "22:31:40.803 | \u001b[36mINFO\u001b[0m    | prefect.flow_runs.runner - \u001b[32mCompleted\u001b[0m submission of flow run\u001b[35m '1db06cab-efa2-4655-b1cb-c4450db85864'\u001b[0m\n",
      "22:31:42.322 | \u001b[36mINFO\u001b[0m    | Flow run\u001b[35m 'vegan-labrador'\u001b[0m - Downloading flow code from storage at '.'\n",
      "22:31:42.680 | \u001b[36mINFO\u001b[0m    | Flow run\u001b[35m 'imaginary-bug'\u001b[0m - Downloading flow code from storage at '.'\n",
      "22:31:42.720 | \u001b[36mINFO\u001b[0m    | Flow run\u001b[35m 'berserk-hare'\u001b[0m - Downloading flow code from storage at '.'\n",
      "22:31:43.491 | \u001b[36mINFO\u001b[0m    | Flow run\u001b[35m 'vegan-labrador'\u001b[0m - Beginning flow run\u001b[35m 'vegan-labrador'\u001b[0m for flow\u001b[1;35m 'apply-model-flow'\u001b[0m\n",
      "22:31:43.493 | \u001b[36mINFO\u001b[0m    | Flow run\u001b[35m 'vegan-labrador'\u001b[0m - View at \u001b[94mhttp://127.0.0.1:4200/runs/flow-run/1db06cab-efa2-4655-b1cb-c4450db85864\u001b[0m\n",
      "▶️ Running apply_model for green - 2021-9\n",
      "📅 Run Date: 2025-06-18 04:31:32.975135+00:00\n",
      "📡 MLflow tracking URI set to: http://localhost:5000\n",
      "▶️ Running apply_model for green - 2021-8\n",
      "📅 Run Date: 2025-06-18 04:31:32.953529+00:00\n",
      "22:31:43.860 | \u001b[36mINFO\u001b[0m    | Flow run\u001b[35m 'berserk-hare'\u001b[0m - Beginning flow run\u001b[35m 'berserk-hare'\u001b[0m for flow\u001b[1;35m 'apply-model-flow'\u001b[0m\n",
      "22:31:43.862 | \u001b[36mINFO\u001b[0m    | Flow run\u001b[35m 'berserk-hare'\u001b[0m - View at \u001b[94mhttp://127.0.0.1:4200/runs/flow-run/27ca97df-c3d2-46e1-ba21-fe506bde6dad\u001b[0m\n",
      "22:31:43.874 | \u001b[36mINFO\u001b[0m    | Flow run\u001b[35m 'imaginary-bug'\u001b[0m - Beginning flow run\u001b[35m 'imaginary-bug'\u001b[0m for flow\u001b[1;35m 'apply-model-flow'\u001b[0m\n",
      "▶️ Running apply_model for green - 2021-7\n",
      "📅 Run Date: 2025-06-18 04:31:32.928137+00:00\n",
      "22:31:43.876 | \u001b[36mINFO\u001b[0m    | Flow run\u001b[35m 'imaginary-bug'\u001b[0m - View at \u001b[94mhttp://127.0.0.1:4200/runs/flow-run/4c6a17f7-ed6e-45fc-8a62-6f904b67cdba\u001b[0m\n",
      "📡 MLflow tracking URI set to: http://localhost:5000\n",
      "📡 MLflow tracking URI set to: http://localhost:5000\n",
      "2025/06/17 22:31:44 WARNING mlflow.pyfunc: The version of Python that the model was saved in, `Python 3.12.7`, differs from the version of Python that is currently running, `Python 3.10.12`, and may be incompatible\n",
      "2025/06/17 22:31:44 WARNING mlflow.pyfunc: The version of Python that the model was saved in, `Python 3.12.7`, differs from the version of Python that is currently running, `Python 3.10.12`, and may be incompatible\n",
      "2025/06/17 22:31:44 WARNING mlflow.pyfunc: The version of Python that the model was saved in, `Python 3.12.7`, differs from the version of Python that is currently running, `Python 3.10.12`, and may be incompatible\n",
      "🎯 Loaded model: nyc-taxi-regressor-weighted-main9 @ production\n",
      "22:31:44.701 | \u001b[36mINFO\u001b[0m    | Task run 'setup_environment_and_load_model-463' - Finished in state \u001b[32mCompleted\u001b[0m()\n",
      "Downloading data from https://d37ci6vzurychx.cloudfront.net/trip-data/green_tripdata_2021-09.parquet\n",
      "🎯 Loaded model: nyc-taxi-regressor-weighted-main9 @ production\n",
      "22:31:45.021 | \u001b[36mINFO\u001b[0m    | Task run 'setup_environment_and_load_model-453' - Finished in state \u001b[32mCompleted\u001b[0m()\n",
      "🎯 Loaded model: nyc-taxi-regressor-weighted-main9 @ production\n",
      "22:31:45.039 | \u001b[36mINFO\u001b[0m    | Task run 'setup_environment_and_load_model-0ae' - Finished in state \u001b[32mCompleted\u001b[0m()\n",
      "Downloading data from https://d37ci6vzurychx.cloudfront.net/trip-data/green_tripdata_2021-08.parquet\n",
      "Downloading data from https://d37ci6vzurychx.cloudfront.net/trip-data/green_tripdata_2021-07.parquet\n",
      "22:31:45.114 | \u001b[36mINFO\u001b[0m    | Task run 'download_data-9ef' - Finished in state \u001b[32mCompleted\u001b[0m()\n",
      "22:31:45.405 | \u001b[36mINFO\u001b[0m    | Task run 'download_data-d40' - Finished in state \u001b[32mCompleted\u001b[0m()\n",
      "22:31:45.418 | \u001b[36mINFO\u001b[0m    | Task run 'download_data-73e' - Finished in state \u001b[32mCompleted\u001b[0m()\n",
      "22:31:45.501 | \u001b[36mINFO\u001b[0m    | Task run 'prepare_df-91e' - Finished in state \u001b[32mCompleted\u001b[0m()\n",
      "22:31:45.736 | \u001b[36mINFO\u001b[0m    | Task run 'prepare_df-99f' - Finished in state \u001b[32mCompleted\u001b[0m()\n",
      "22:31:45.764 | \u001b[36mINFO\u001b[0m    | Task run 'prepare_df-298' - Finished in state \u001b[32mCompleted\u001b[0m()\n",
      "22:31:45.836 | \u001b[36mINFO\u001b[0m    | Task run 'predict-9ca' - Finished in state \u001b[32mCompleted\u001b[0m()\n",
      "22:31:46.047 | \u001b[36mINFO\u001b[0m    | Task run 'predict-317' - Finished in state \u001b[32mCompleted\u001b[0m()\n",
      "22:31:46.083 | \u001b[36mINFO\u001b[0m    | Task run 'predict-6ec' - Finished in state \u001b[32mCompleted\u001b[0m()\n",
      "✅ Results saved to output/green/2021-09.parquet\n",
      "22:31:46.145 | \u001b[36mINFO\u001b[0m    | Task run 'save_predictions-098' - Finished in state \u001b[32mCompleted\u001b[0m()\n",
      "22:31:46.183 | \u001b[36mINFO\u001b[0m    | Flow run\u001b[35m 'vegan-labrador'\u001b[0m - Finished in state \u001b[32mCompleted\u001b[0m()\n",
      "✅ Results saved to output/green/2021-08.parquet\n",
      "22:31:46.309 | \u001b[36mINFO\u001b[0m    | Task run 'save_predictions-e7a' - Finished in state \u001b[32mCompleted\u001b[0m()\n",
      "22:31:46.340 | \u001b[36mINFO\u001b[0m    | Flow run\u001b[35m 'berserk-hare'\u001b[0m - Finished in state \u001b[32mCompleted\u001b[0m()\n",
      "✅ Results saved to output/green/2021-07.parquet\n",
      "22:31:46.353 | \u001b[36mINFO\u001b[0m    | Task run 'save_predictions-fe8' - Finished in state \u001b[32mCompleted\u001b[0m()\n",
      "22:31:46.381 | \u001b[36mINFO\u001b[0m    | Flow run\u001b[35m 'imaginary-bug'\u001b[0m - Finished in state \u001b[32mCompleted\u001b[0m()\n",
      "22:31:46.918 | \u001b[36mINFO\u001b[0m    | prefect.flow_runs.runner - Process for flow run\u001b[35m 'vegan-labrador'\u001b[0m exited cleanly.\n",
      "22:31:47.111 | \u001b[36mINFO\u001b[0m    | prefect.flow_runs.runner - Process for flow run\u001b[35m 'berserk-hare'\u001b[0m exited cleanly.\n",
      "22:31:47.159 | \u001b[36mINFO\u001b[0m    | prefect.flow_runs.runner - Process for flow run\u001b[35m 'imaginary-bug'\u001b[0m exited cleanly.\n",
      "22:32:59.036 | \u001b[36mINFO\u001b[0m    | prefect.runner - Pausing all deployments...\n",
      "22:32:59.060 | \u001b[36mINFO\u001b[0m    | prefect.runner - All deployments have been paused!\n",
      "22:32:59.063 | \u001b[36mINFO\u001b[0m    | prefect.flows - Received KeyboardInterrupt, shutting down...\n",
      "^C\n"
     ]
    }
   ],
   "source": [
    "!python deploy_flow.py serve"
   ]
  },
  {
   "cell_type": "markdown",
   "id": "27235af4",
   "metadata": {},
   "source": [
    "## Deploy method 2: uses docker workpool (runs but not yet working correctly)"
   ]
  },
  {
   "cell_type": "code",
   "execution_count": 1,
   "id": "783806e7",
   "metadata": {},
   "outputs": [
    {
     "name": "stdout",
     "output_type": "stream",
     "text": [
      "🚀 Deploying apply_model_flow with docker work pool...\n",
      "\u001b[2K\u001b[32mSuccessfully built image \u001b[0m\u001b[32m'my-registry.com/my-docker-image:my-tag'\u001b[0m\n",
      "\u001b[2K  Building image my-registry.com/my-docker-image:my-tag...ker-image:my-tag...\u001b[0m\n",
      "\u001b[2KCreating/updating deployments... \u001b[90m━━━━━━━━━━━━━━━━━━━━━━━━━━━━━━━━━━\u001b[0m \u001b[35m100%\u001b[0m \u001b[33m0:00:00\u001b[0m\n",
      "\u001b[1A\u001b[2K\u001b[32mSuccessfully created/updated all deployments!\u001b[0m\n",
      "\n",
      "\u001b[3m                             Deployments                             \u001b[0m\n",
      "┏━━━━━━━━━━━━━━━━━━━━━━━━━━━━━━━━━━━━━━━━━━━━━━━┳━━━━━━━━━┳━━━━━━━━━┓\n",
      "┃\u001b[1m \u001b[0m\u001b[1mName                                         \u001b[0m\u001b[1m \u001b[0m┃\u001b[1m \u001b[0m\u001b[1mStatus \u001b[0m\u001b[1m \u001b[0m┃\u001b[1m \u001b[0m\u001b[1mDetails\u001b[0m\u001b[1m \u001b[0m┃\n",
      "┡━━━━━━━━━━━━━━━━━━━━━━━━━━━━━━━━━━━━━━━━━━━━━━━╇━━━━━━━━━╇━━━━━━━━━┩\n",
      "│\u001b[34m \u001b[0m\u001b[34mapply-model-flow/taxi-model-deployment-docker\u001b[0m\u001b[34m \u001b[0m│\u001b[34m \u001b[0m\u001b[34mapplied\u001b[0m\u001b[34m \u001b[0m│\u001b[34m \u001b[0m\u001b[34m       \u001b[0m\u001b[34m \u001b[0m│\n",
      "└───────────────────────────────────────────────┴─────────┴─────────┘\n",
      "\n",
      "To schedule a run for this deployment, use the following command:\n",
      "\n",
      "\u001b[34m        $ prefect deployment run \u001b[0m\u001b[32m'apply-model-flow/taxi-model-deployment-docker'\u001b[0m\n",
      "\n",
      "\n",
      "You can also run your flow via the Prefect UI: \u001b[4;34mhttp://127.0.0.1:4200/deployments/deployment/c9cb1f94-c79d-43b7-8ff0-0394e454dcea\u001b[0m\n",
      "\n",
      "✅ Deployment created successfully!\n",
      "   Flow Name: apply-model-flow\n",
      "   Deployment Name: taxi-model-deployment-docker\n",
      "   Full Deployment ID: apply-model-flow/taxi-model-deployment-docker\n",
      "\n",
      "📋 Next steps:\n",
      "1. Start a Prefect worker:\n",
      "   prefect worker start --pool my-docker-pool\n",
      "\n",
      "2. Or run directly:\n",
      "   prefect deployment run 'apply-model-flow/taxi-model-deployment-docker'\n"
     ]
    }
   ],
   "source": [
    "!python deploy_flow.py docker"
   ]
  },
  {
   "cell_type": "markdown",
   "id": "70956230",
   "metadata": {},
   "source": [
    "## Deploy method 2: uses process workpool"
   ]
  },
  {
   "cell_type": "code",
   "execution_count": 1,
   "id": "46b30cb0",
   "metadata": {},
   "outputs": [
    {
     "name": "stdout",
     "output_type": "stream",
     "text": [
      "🚀 Deploying apply_model_flow with process work pool...\n",
      "\u001b[33mLooks like you're deploying to a process work pool. If you're creating a \u001b[0m\n",
      "\u001b[33mdeployment for local development, calling `.serve` on your flow is a great way \u001b[0m\n",
      "\u001b[33mto get started. See the documentation for more information: \u001b[0m\n",
      "\u001b[4;94mhttps://docs.prefect.io/latest/deploy/run-flows-in-local-processes\u001b[0m\u001b[33m  Set \u001b[0m\n",
      "\u001b[33m`\u001b[0m\u001b[33mignore_warnings\u001b[0m\u001b[33m=\u001b[0m\u001b[3;92mTrue\u001b[0m\u001b[33m` to suppress this message.\u001b[0m\n",
      "\u001b[2KCreating/updating deployments... \u001b[90m━━━━━━━━━━━━━━━━━━━━━━━━━━━━━━━━━━\u001b[0m \u001b[35m100%\u001b[0m \u001b[33m0:00:00\u001b[0m\n",
      "\u001b[1A\u001b[2K\u001b[32mSuccessfully created/updated all deployments!\u001b[0m\n",
      "\n",
      "\u001b[3m                             Deployments                              \u001b[0m\n",
      "┏━━━━━━━━━━━━━━━━━━━━━━━━━━━━━━━━━━━━━━━━━━━━━━━━┳━━━━━━━━━┳━━━━━━━━━┓\n",
      "┃\u001b[1m \u001b[0m\u001b[1mName                                          \u001b[0m\u001b[1m \u001b[0m┃\u001b[1m \u001b[0m\u001b[1mStatus \u001b[0m\u001b[1m \u001b[0m┃\u001b[1m \u001b[0m\u001b[1mDetails\u001b[0m\u001b[1m \u001b[0m┃\n",
      "┡━━━━━━━━━━━━━━━━━━━━━━━━━━━━━━━━━━━━━━━━━━━━━━━━╇━━━━━━━━━╇━━━━━━━━━┩\n",
      "│\u001b[34m \u001b[0m\u001b[34mapply-model-flow/taxi-model-deployment-process\u001b[0m\u001b[34m \u001b[0m│\u001b[34m \u001b[0m\u001b[34mapplied\u001b[0m\u001b[34m \u001b[0m│\u001b[34m \u001b[0m\u001b[34m       \u001b[0m\u001b[34m \u001b[0m│\n",
      "└────────────────────────────────────────────────┴─────────┴─────────┘\n",
      "\n",
      "To schedule a run for this deployment, use the following command:\n",
      "\n",
      "\u001b[34m        $ prefect deployment run \u001b[0m\n",
      "\u001b[32m'apply-model-flow/taxi-model-deployment-process'\u001b[0m\n",
      "\n",
      "\n",
      "You can also run your flow via the Prefect UI: \u001b[4;34mhttp://127.0.0.1:4200/deployments/deployment/cf79d758-84f4-40ed-99ff-d8d075594788\u001b[0m\n",
      "\n",
      "✅ Deployment created successfully!\n",
      "   Flow Name: apply_model_flow\n",
      "   Deployment Name: taxi-model-deployment-process\n",
      "   Full Deployment ID: apply_model_flow/taxi-model-deployment-process\n",
      "\n",
      "📋 Next steps:\n",
      "1. Start a Prefect worker:\n",
      "   prefect worker start --pool default-process-pool\n",
      "\n",
      "2. Or run directly:\n",
      "   prefect deployment run 'apply_model_flow/taxi-model-deployment-process'\n"
     ]
    }
   ],
   "source": [
    "!python deploy_flow.py process"
   ]
  },
  {
   "cell_type": "code",
   "execution_count": null,
   "id": "27a69618",
   "metadata": {},
   "outputs": [],
   "source": []
  }
 ],
 "metadata": {
  "kernelspec": {
   "display_name": "Python (prefect-mlops)",
   "language": "python",
   "name": "prefect-mlops"
  },
  "language_info": {
   "codemirror_mode": {
    "name": "ipython",
    "version": 3
   },
   "file_extension": ".py",
   "mimetype": "text/x-python",
   "name": "python",
   "nbconvert_exporter": "python",
   "pygments_lexer": "ipython3",
   "version": "3.10.12"
  }
 },
 "nbformat": 4,
 "nbformat_minor": 5
}
