{
 "cells": [
  {
   "cell_type": "code",
   "execution_count": 1,
   "metadata": {},
   "outputs": [],
   "source": [
    "import pandas as pd"
   ]
  },
  {
   "cell_type": "code",
   "execution_count": 2,
   "metadata": {},
   "outputs": [],
   "source": [
    "import prefect"
   ]
  },
  {
   "cell_type": "code",
   "execution_count": 3,
   "metadata": {},
   "outputs": [
    {
     "data": {
      "text/plain": [
       "'3.4.4'"
      ]
     },
     "execution_count": 3,
     "metadata": {},
     "output_type": "execute_result"
    }
   ],
   "source": [
    "prefect.__version__"
   ]
  },
  {
   "cell_type": "code",
   "execution_count": null,
   "metadata": {},
   "outputs": [],
   "source": [
    "import pathlib\n",
    "import pickle\n",
    "import pandas as pd\n",
    "import numpy as np\n",
    "import mlflow\n",
    "import mlflow.sklearn\n",
    "from sklearn.feature_extraction import DictVectorizer\n",
    "from sklearn.linear_model import LinearRegression\n",
    "from sklearn.metrics import mean_squared_error\n",
    "from prefect import flow, task\n",
    "\n",
    "\n",
    "@task(retries=3, retry_delay_seconds=2)\n",
    "def download_data(year: int, month: int, taxi: str = \"green\") -> pd.DataFrame:\n",
    "    url = f\"https://d37ci6vzurychx.cloudfront.net/trip-data/{taxi}_tripdata_{year}-{month:02d}.parquet\"\n",
    "    print(f\"Downloading data from {url}\")\n",
    "    try:\n",
    "        df = pd.read_parquet(url)\n",
    "        print(f\"Downloaded {len(df)} records\")\n",
    "        return df\n",
    "    except Exception as e:\n",
    "        print(f\"Error downloading data: {e}\")\n",
    "        raise\n",
    "\n",
    "\n",
    "@task\n",
    "def prepare_data(df: pd.DataFrame) -> pd.DataFrame:\n",
    "    df.lpep_dropoff_datetime = pd.to_datetime(df.lpep_dropoff_datetime)\n",
    "    df.lpep_pickup_datetime = pd.to_datetime(df.lpep_pickup_datetime)\n",
    "\n",
    "    df[\"duration\"] = df.lpep_dropoff_datetime - df.lpep_pickup_datetime\n",
    "    df[\"duration\"] = df.duration.apply(lambda td: td.total_seconds() / 60)\n",
    "\n",
    "    df = df[(df.duration >= 1) & (df.duration <= 60)]\n",
    "\n",
    "    df[\"PULocationID\"] = df[\"PULocationID\"].astype(str)\n",
    "    df[\"DOLocationID\"] = df[\"DOLocationID\"].astype(str)\n",
    "\n",
    "    return df\n",
    "\n",
    "\n",
    "@task\n",
    "def split_features(df: pd.DataFrame, fit_dv: bool = True, dv: DictVectorizer = None):\n",
    "    \"\"\"\n",
    "    Transforms categorical features into vectors using DictVectorizer.\n",
    "\n",
    "    Args:\n",
    "        df: Preprocessed DataFrame\n",
    "        fit_dv: Whether to fit a new DictVectorizer (True) or use an existing one (False)\n",
    "        dv: Existing DictVectorizer to use when fit_dv is False\n",
    "\n",
    "    Returns:\n",
    "        X: Transformed feature matrix\n",
    "        y: Target vector\n",
    "        dv: DictVectorizer (fitted)\n",
    "    \"\"\"\n",
    "    categorical = [\"PULocationID\", \"DOLocationID\"]\n",
    "    dicts = df[categorical].to_dict(orient=\"records\")\n",
    "\n",
    "    if fit_dv:\n",
    "        dv = DictVectorizer()\n",
    "        X = dv.fit_transform(dicts)\n",
    "    else:\n",
    "        if dv is None:\n",
    "            raise ValueError(\"DictVectorizer must be provided when fit_dv=False\")\n",
    "        X = dv.transform(dicts)\n",
    "\n",
    "    y = df[\"duration\"].values\n",
    "    return X, y, dv\n",
    "\n",
    "\n",
    "\n",
    "@task(log_prints=True)\n",
    "def train_and_register_model(X, y, dv):\n",
    "    X_train, X_val, y_train, y_val = X, X, y, y\n",
    "\n",
    "    with mlflow.start_run():\n",
    "        model = LinearRegression()\n",
    "        model.fit(X_train, y_train)\n",
    "\n",
    "        y_pred = model.predict(X_val)\n",
    "        rmse = mean_squared_error(y_val, y_pred, squared=False)\n",
    "\n",
    "        print(f\"Intercept of the model: {model.intercept_}\")\n",
    "        print(f\"RMSE: {rmse}\")\n",
    "\n",
    "        mlflow.log_metric(\"rmse\", rmse)\n",
    "        mlflow.sklearn.log_model(model, artifact_path=\"model\", registered_model_name=\"homework-model\")\n",
    "\n",
    "        pathlib.Path(\"models\").mkdir(exist_ok=True)\n",
    "        with open(\"models/dv.pkl\", \"wb\") as f_out:\n",
    "            pickle.dump(dv, f_out)\n",
    "        mlflow.log_artifact(\"models/dv.pkl\", artifact_path=\"preprocessor\")\n",
    "\n",
    "\n",
    "@flow\n",
    "def main_flow(year: int = 2023, month: int = 3, taxi: str = \"yellow\"):\n",
    "    mlflow.set_tracking_uri(\"sqlite:///mlflow.db\")\n",
    "    mlflow.set_experiment(\"nyc-taxi-linear-model\")\n",
    "\n",
    "    df = download_data(year, month, taxi)\n",
    "    df_clean = prepare_data(df)\n",
    "    X, y, dv = split_features(df_clean)\n",
    "    train_and_register_model(X, y, dv)\n",
    "\n",
    "\n",
    "if __name__ == \"__main__\":\n",
    "    main_flow()"
   ]
  },
  {
   "cell_type": "code",
   "execution_count": 1,
   "metadata": {},
   "outputs": [
    {
     "name": "stdout",
     "output_type": "stream",
     "text": [
      "16:10:20.681 | \u001b[36mINFO\u001b[0m    | Flow run\u001b[35m 'melodic-kagu'\u001b[0m - Beginning flow run\u001b[35m 'melodic-kagu'\u001b[0m for flow\u001b[1;35m 'main-flow'\u001b[0m\n",
      "16:10:20.686 | \u001b[36mINFO\u001b[0m    | Flow run\u001b[35m 'melodic-kagu'\u001b[0m - View at \u001b[94mhttp://127.0.0.1:4200/runs/flow-run/2b27cd24-9123-45ec-8c08-c8380e07bf5d\u001b[0m\n",
      "Downloading data from https://d37ci6vzurychx.cloudfront.net/trip-data/yellow_tripdata_2023-03.parquet\n",
      "Downloaded 3403766 records\n",
      "16:10:22.030 | \u001b[36mINFO\u001b[0m    | Task run 'download_data-2a3' - Finished in state \u001b[32mCompleted\u001b[0m()\n",
      "/home/habeeb/Mlops-proj/03-orchestration/mlops-prefect/prefect-mlops-zoomcamp/homework/prefect-hw.py:51: SettingWithCopyWarning: \n",
      "A value is trying to be set on a copy of a slice from a DataFrame.\n",
      "Try using .loc[row_indexer,col_indexer] = value instead\n",
      "\n",
      "See the caveats in the documentation: https://pandas.pydata.org/pandas-docs/stable/user_guide/indexing.html#returning-a-view-versus-a-copy\n",
      "  df[\"PULocationID\"] = df[\"PULocationID\"].astype(str)\n",
      "/home/habeeb/Mlops-proj/03-orchestration/mlops-prefect/prefect-mlops-zoomcamp/homework/prefect-hw.py:52: SettingWithCopyWarning: \n",
      "A value is trying to be set on a copy of a slice from a DataFrame.\n",
      "Try using .loc[row_indexer,col_indexer] = value instead\n",
      "\n",
      "See the caveats in the documentation: https://pandas.pydata.org/pandas-docs/stable/user_guide/indexing.html#returning-a-view-versus-a-copy\n",
      "  df[\"DOLocationID\"] = df[\"DOLocationID\"].astype(str)\n",
      "df after preprocessing is (3316216, 20)\n",
      "16:10:25.137 | \u001b[36mINFO\u001b[0m    | Task run 'prepare_data-5fa' - Finished in state \u001b[32mCompleted\u001b[0m()\n",
      "16:10:38.367 | \u001b[36mINFO\u001b[0m    | Task run 'split_features-368' - Finished in state \u001b[32mCompleted\u001b[0m()\n",
      "16:10:58.906 | \u001b[36mINFO\u001b[0m    | Task run 'train_and_register_model-0e4' - Intercept of the model: 24.776495315333484\n",
      "16:10:58.908 | \u001b[36mINFO\u001b[0m    | Task run 'train_and_register_model-0e4' - RMSE: 8.158681469617749\n",
      "\u001b[31m2025/06/02 16:11:01 WARNING mlflow.models.model: Model logged without a signature and input example. Please set `input_example` parameter when logging the model to auto infer the model signature.\u001b[0m\n",
      "Successfully registered model 'homework-model'.\n",
      "Created version '1' of model 'homework-model'.\n",
      "16:11:01.566 | \u001b[36mINFO\u001b[0m    | Task run 'train_and_register_model-0e4' - Finished in state \u001b[32mCompleted\u001b[0m()\n",
      "16:11:01.713 | \u001b[36mINFO\u001b[0m    | Flow run\u001b[35m 'melodic-kagu'\u001b[0m - Finished in state \u001b[32mCompleted\u001b[0m()\n"
     ]
    }
   ],
   "source": [
    "!python /home/habeeb/Mlops-proj/03-orchestration/mlops-prefect/prefect-mlops-zoomcamp/homework/prefect-hw.py"
   ]
  },
  {
   "cell_type": "code",
   "execution_count": null,
   "metadata": {},
   "outputs": [],
   "source": []
  }
 ],
 "metadata": {
  "kernelspec": {
   "display_name": "Python (prefect-mlops)",
   "language": "python",
   "name": "prefect-mlops"
  },
  "language_info": {
   "codemirror_mode": {
    "name": "ipython",
    "version": 3
   },
   "file_extension": ".py",
   "mimetype": "text/x-python",
   "name": "python",
   "nbconvert_exporter": "python",
   "pygments_lexer": "ipython3",
   "version": "3.10.12"
  }
 },
 "nbformat": 4,
 "nbformat_minor": 2
}
