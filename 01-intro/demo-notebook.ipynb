{
 "cells": [
  {
   "cell_type": "markdown",
   "id": "55402e23",
   "metadata": {},
   "source": [
    "## Test run"
   ]
  },
  {
   "cell_type": "markdown",
   "id": "f15b59c1",
   "metadata": {},
   "source": [
    "## Let us train a LR model using green-taxi data 2021-01"
   ]
  },
  {
   "cell_type": "code",
   "execution_count": 3,
   "id": "ad4dff9e",
   "metadata": {},
   "outputs": [
    {
     "name": "stdout",
     "output_type": "stream",
     "text": [
      "mkdir -p models plots\n",
      "python3 NYC_trip_duration_pred.py train \\\n",
      "\t--train-year 2021 \\\n",
      "\t--train-month 1 \\\n",
      "\t--test-year 2021 \\\n",
      "\t--test-month 1 \\\n",
      "\t--model linear_regression \\\n",
      "\t--target-transform none \\\n",
      "\t--features PULocationID DOLocationID trip_distance \\\n",
      "\t--categorical-features PULocationID DOLocationID \\\n",
      "\t--numerical-features trip_distance \\\n",
      "\t--cat-preprocessor dictvectorizer \\\n",
      "\t--num-preprocessor none \\\n",
      "\t--save-model \\\n",
      "\t--save-plot \\\n",
      "\t--random-state 42\n",
      "2025-05-12 20:27:32,975 - INFO - Starting NYC Taxi Duration Prediction - Training Pipeline\n",
      "2025-05-12 20:27:32,976 - INFO - Model: linear_regression, Target Transform: none\n",
      "2025-05-12 20:27:32,976 - INFO - Cat Preprocessor: dictvectorizer, Num Preprocessor: none\n",
      "Downloading data from https://d37ci6vzurychx.cloudfront.net/trip-data/green_tripdata_2021-01.parquet\n",
      "Downloaded 76518 records\n",
      "Downloading data from https://d37ci6vzurychx.cloudfront.net/trip-data/green_tripdata_2021-01.parquet\n",
      "Downloaded 76518 records\n",
      "Training linear_regression model...\n",
      "Training complete!\n",
      "2025-05-12 20:27:36,879 - INFO - Model saved to models/nyc_taxi_duration_linear_regression_20250512_202736.joblib using joblib\n",
      "2025-05-12 20:27:36,879 - INFO - Model saved to models/nyc_taxi_duration_linear_regression_20250512_202736.joblib\n",
      "RMSE: 9.78\n",
      "MAE: 7.18\n",
      "R²: 0.29\n",
      "2025-05-12 20:27:38,378 - INFO - Plot saved to plots/nyc_taxi_duration_linear_regression_20250512_202737.png\n",
      "2025-05-12 20:27:38,378 - INFO - Training complete and model saved!\n"
     ]
    }
   ],
   "source": [
    "!make train-custom \\\n",
    "  DATA_YEAR=2021 \\\n",
    "  DATA_MONTH=1 \\\n",
    "  TEST_YEAR=2021 \\\n",
    "  TEST_MONTH=1 \\\n",
    "  MODEL=linear_regression \\\n",
    "  TARGET_TRANSFORM=none \\\n",
    "  FEATURES=\"PULocationID DOLocationID trip_distance\" \\\n",
    "  CAT_FEATURES=\"PULocationID DOLocationID\" \\\n",
    "  NUM_FEATURES=\"trip_distance\" \\\n",
    "  CAT_PREPROCESSOR=dictvectorizer \\\n",
    "  NUM_PREPROCESSOR=none"
   ]
  },
  {
   "cell_type": "markdown",
   "id": "8fc29bde",
   "metadata": {},
   "source": [
    "## We can use the trained model to green-taxi data 2021-02"
   ]
  },
  {
   "cell_type": "code",
   "execution_count": 4,
   "id": "4624aefd",
   "metadata": {},
   "outputs": [
    {
     "name": "stdout",
     "output_type": "stream",
     "text": [
      "python3 NYC_trip_duration_pred.py predict \\\n",
      "\t--model-path models/nyc_taxi_duration_linear_regression_20250512_202736.joblib \\\n",
      "\t--year 2021 \\\n",
      "\t--month 2 \\\n",
      "\t--taxi-type green \\\n",
      "\t--save-plot\n",
      "2025-05-12 20:38:28,345 - INFO - Starting NYC Taxi Duration Prediction - Prediction Pipeline\n",
      "2025-05-12 20:38:28,345 - INFO - Loading model from models/nyc_taxi_duration_linear_regression_20250512_202736.joblib\n",
      "2025-05-12 20:38:28,346 - INFO - Loading model from models/nyc_taxi_duration_linear_regression_20250512_202736.joblib\n",
      "2025-05-12 20:38:28,348 - INFO - Model loaded from models/nyc_taxi_duration_linear_regression_20250512_202736.joblib\n",
      "2025-05-12 20:38:28,348 - INFO - Model: linear_regression\n",
      "2025-05-12 20:38:28,348 - INFO - Features: PULocationID, DOLocationID, trip_distance\n",
      "Downloading data from https://d37ci6vzurychx.cloudfront.net/trip-data/green_tripdata_2021-02.parquet\n",
      "Downloaded 64572 records\n",
      "RMSE: 10.47\n",
      "MAE: 7.57\n",
      "R²: 0.26\n",
      "2025-05-12 20:38:29,970 - INFO - Plot saved to plots/nyc_taxi_duration_linear_regression_prediction_20250512_203828.png\n"
     ]
    }
   ],
   "source": [
    "!make predict \\\n",
    "    MODEL_PATH=models/nyc_taxi_duration_linear_regression_20250512_202736.joblib \\\n",
    "    DATA_YEAR=2021 \\\n",
    "    TAXI=green \\\n",
    "    DATA_MONTH=2"
   ]
  },
  {
   "cell_type": "code",
   "execution_count": null,
   "id": "2e919dff",
   "metadata": {},
   "outputs": [],
   "source": []
  }
 ],
 "metadata": {
  "kernelspec": {
   "display_name": "nyc-taxi-env",
   "language": "python",
   "name": "python3"
  },
  "language_info": {
   "codemirror_mode": {
    "name": "ipython",
    "version": 3
   },
   "file_extension": ".py",
   "mimetype": "text/x-python",
   "name": "python",
   "nbconvert_exporter": "python",
   "pygments_lexer": "ipython3",
   "version": "3.9.21"
  }
 },
 "nbformat": 4,
 "nbformat_minor": 5
}
